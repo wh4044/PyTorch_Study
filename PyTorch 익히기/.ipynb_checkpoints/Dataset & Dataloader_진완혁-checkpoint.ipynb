{
 "cells": [
  {
   "cell_type": "markdown",
   "id": "f8b2500d",
   "metadata": {},
   "source": [
    "# DATASET과 DATALOADER\n",
    "- PyTorch는 `torch.utils.data.DataLoader` 와 `torch.utils.data.Dataset` 의 두 가지 데이터 기본 요소를 제공한다.\n",
    "\n",
    "\n",
    "- 미리 준비된(pre-loaded) 데이터셋 뿐만 아니라 가지고 있는 데이터를 사용할 수 있도록 해준다.\n",
    "\n",
    "\n",
    "- `Dataset`은 샘플과 정답(label)을 저장하고, `DataLoader`는 `Dataset`을 샘플에 쉽게 접근할 수 있도록 순회 가능한 객체(iterable)로 감싼다.\n",
    "\n",
    "\n",
    "- PyTorch는 다양한 pre-loaded 데이터셋이 있다. `torch.utils.data.Dataset`의 하위 클래스로 개별 데이터를 특정하는 함수가 구현되어 있다.\n",
    "\n",
    "\n",
    "- 이러한 데이터셋은 모델을 만들어보고 성능을 측정하는데 사용할 수 있다.\n",
    "\n",
    "# 데이터셋 불러오기\n",
    "- *TorchVision* 에서 Fashion-MNIST 데이터셋을 불러오는 예제를 살펴보자.\n",
    "- 60,000개의 학습 예제와 10,000개의 테스트 예제로 이루어져 있다.\n",
    "- 각 예제는 흑백(grayscale)의 28*28 이미지와 10개 분류(class)중 하나인 정답(label)로 구성된다.\n",
    "\n",
    "\n",
    "- 다음 매개변수들을 사용하여 FashionMNIST 데이터셋을 불러온다.\n",
    "    - `root` 는 학습/테스트 데이터가 저장되는 경로이다.\n",
    "    - `train` 은 학습용 또는 테스트용 데이터셋 여부를 지정한다.\n",
    "    - `download=True` 는 `root` 에 데이터가 없는 경우 인터넷에서 다운로드한다.\n",
    "    - `transform` 과 `target_transform` 은 특징(feature)과 정답(label)을 변형(transform)을 지정한다."
   ]
  },
  {
   "cell_type": "code",
   "execution_count": null,
   "id": "49ddca0f",
   "metadata": {},
   "outputs": [],
   "source": [
    "import torch\n",
    "from torch.utils.data import Dataset\n",
    "from torchvision import datasets\n",
    "from torchvision.transforms import ToTensor\n",
    "import matplotlib.pyplot as plt\n",
    "\n",
    "training_data = datasets.FashionMNIST(\n",
    "    root = 'data',\n",
    "    train = True,\n",
    "    download = True,\n",
    "    transform = ToTensor())\n",
    "\n",
    "test_data = datasets.FashionMNIST(\n",
    "    root = 'data',\n",
    "    train = False,\n",
    "    download = True,\n",
    "    transform = ToTensor())"
   ]
  },
  {
   "cell_type": "markdown",
   "id": "ecc472e8",
   "metadata": {},
   "source": [
    "# 데이터셋을 순회하고 시각화하기\n",
    "- `Dataset` 에 리스트(list)처럼 직접 접근(index)할 수 있습니다.\n",
    "- `training_data[index]` , `matplotlib` 을 사용하여 학습 데이터 일부를 시각화해보자."
   ]
  },
  {
   "cell_type": "code",
   "execution_count": null,
   "id": "b7e931cd",
   "metadata": {},
   "outputs": [],
   "source": [
    "labels_map = {0: \"T-Shirt\", 1: \"Trouser\", 2: \"Pullover\", 3: \"Dress\", 4: \"Coat\",\n",
    "              5: \"Sandal\", 6: \"Shirt\", 7: \"Sneaker\", 8: \"Bag\", 9: \"Ankle Boot\"}\n",
    "\n",
    "fig = plt.figure(figsize=(8, 8))\n",
    "cols, rows = 3, 3\n",
    "\n",
    "for i in range(1, cols*rows + 1):\n",
    "    sample_idx = torch.randint(len(training_data), size=(1,)).item()\n",
    "    img, label = training_data[sample_idx]\n",
    "    \n",
    "    fig.add_subplot(rows, cols, i)\n",
    "    plt.title(labels_map[label])\n",
    "    plt.axis('off')\n",
    "    plt.imshow(img.squeeze(), cmap='gray')\n",
    "\n",
    "plt.show()"
   ]
  },
  {
   "cell_type": "code",
   "execution_count": null,
   "id": "cc6cd879",
   "metadata": {},
   "outputs": [],
   "source": []
  }
 ],
 "metadata": {
  "hide_input": false,
  "kernelspec": {
   "display_name": "Python 3 (ipykernel)",
   "language": "python",
   "name": "python3"
  },
  "language_info": {
   "codemirror_mode": {
    "name": "ipython",
    "version": 3
   },
   "file_extension": ".py",
   "mimetype": "text/x-python",
   "name": "python",
   "nbconvert_exporter": "python",
   "pygments_lexer": "ipython3",
   "version": "3.8.12"
  },
  "toc": {
   "base_numbering": 1,
   "nav_menu": {},
   "number_sections": true,
   "sideBar": true,
   "skip_h1_title": false,
   "title_cell": "Table of Contents",
   "title_sidebar": "Contents",
   "toc_cell": false,
   "toc_position": {},
   "toc_section_display": true,
   "toc_window_display": true
  },
  "varInspector": {
   "cols": {
    "lenName": 16,
    "lenType": 16,
    "lenVar": 40
   },
   "kernels_config": {
    "python": {
     "delete_cmd_postfix": "",
     "delete_cmd_prefix": "del ",
     "library": "var_list.py",
     "varRefreshCmd": "print(var_dic_list())"
    },
    "r": {
     "delete_cmd_postfix": ") ",
     "delete_cmd_prefix": "rm(",
     "library": "var_list.r",
     "varRefreshCmd": "cat(var_dic_list()) "
    }
   },
   "position": {
    "height": "244.85px",
    "left": "975.2px",
    "right": "20px",
    "top": "53px",
    "width": "472px"
   },
   "types_to_exclude": [
    "module",
    "function",
    "builtin_function_or_method",
    "instance",
    "_Feature"
   ],
   "window_display": false
  }
 },
 "nbformat": 4,
 "nbformat_minor": 5
}
