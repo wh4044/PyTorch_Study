{
 "cells": [
  {
   "cell_type": "markdown",
   "id": "265434f3",
   "metadata": {},
   "source": [
    "# 모듈 호출"
   ]
  },
  {
   "cell_type": "code",
   "execution_count": 2,
   "id": "48ce427f",
   "metadata": {},
   "outputs": [],
   "source": [
    "import pandas as pd\n",
    "import numpy as np\n",
    "from sklearn.model_selection import train_test_split, KFold\n",
    "from sklearn.metrics import mean_squared_error\n",
    "import torch\n",
    "from torch import nn, optim\n",
    "from torch.utils.data import Dataset, DataLoader\n",
    "import matplotlib.pyplot as plt"
   ]
  },
  {
   "cell_type": "markdown",
   "id": "df4d0a13",
   "metadata": {},
   "source": [
    "# 데이터 프레임을 넘파이 배열로 만들기"
   ]
  },
  {
   "cell_type": "code",
   "execution_count": 3,
   "id": "8806624a",
   "metadata": {},
   "outputs": [
    {
     "data": {
      "text/html": [
       "<div>\n",
       "<style scoped>\n",
       "    .dataframe tbody tr th:only-of-type {\n",
       "        vertical-align: middle;\n",
       "    }\n",
       "\n",
       "    .dataframe tbody tr th {\n",
       "        vertical-align: top;\n",
       "    }\n",
       "\n",
       "    .dataframe thead th {\n",
       "        text-align: right;\n",
       "    }\n",
       "</style>\n",
       "<table border=\"1\" class=\"dataframe\">\n",
       "  <thead>\n",
       "    <tr style=\"text-align: right;\">\n",
       "      <th></th>\n",
       "      <th>x1</th>\n",
       "      <th>x2</th>\n",
       "      <th>x3</th>\n",
       "      <th>x4</th>\n",
       "      <th>x5</th>\n",
       "      <th>x6</th>\n",
       "      <th>x7</th>\n",
       "      <th>x8</th>\n",
       "      <th>x9</th>\n",
       "      <th>x10</th>\n",
       "      <th>x11</th>\n",
       "      <th>x12</th>\n",
       "      <th>x13</th>\n",
       "      <th>Price</th>\n",
       "    </tr>\n",
       "  </thead>\n",
       "  <tbody>\n",
       "    <tr>\n",
       "      <th>0</th>\n",
       "      <td>0.034633</td>\n",
       "      <td>0.206919</td>\n",
       "      <td>0.137057</td>\n",
       "      <td>0.540526</td>\n",
       "      <td>0.193941</td>\n",
       "      <td>0.699239</td>\n",
       "      <td>0.630532</td>\n",
       "      <td>0.239410</td>\n",
       "      <td>0.027375</td>\n",
       "      <td>0.209857</td>\n",
       "      <td>0.347609</td>\n",
       "      <td>0.996394</td>\n",
       "      <td>0.102644</td>\n",
       "      <td>0.422222</td>\n",
       "    </tr>\n",
       "    <tr>\n",
       "      <th>1</th>\n",
       "      <td>0.028920</td>\n",
       "      <td>0.014315</td>\n",
       "      <td>0.276113</td>\n",
       "      <td>0.255945</td>\n",
       "      <td>0.618886</td>\n",
       "      <td>0.555407</td>\n",
       "      <td>0.782263</td>\n",
       "      <td>0.482977</td>\n",
       "      <td>0.103031</td>\n",
       "      <td>0.106690</td>\n",
       "      <td>0.520776</td>\n",
       "      <td>0.996650</td>\n",
       "      <td>0.187120</td>\n",
       "      <td>0.368889</td>\n",
       "    </tr>\n",
       "    <tr>\n",
       "      <th>2</th>\n",
       "      <td>0.020627</td>\n",
       "      <td>0.033230</td>\n",
       "      <td>0.281116</td>\n",
       "      <td>0.525591</td>\n",
       "      <td>0.165269</td>\n",
       "      <td>0.624102</td>\n",
       "      <td>0.586005</td>\n",
       "      <td>0.272713</td>\n",
       "      <td>0.036010</td>\n",
       "      <td>0.106986</td>\n",
       "      <td>0.595301</td>\n",
       "      <td>0.983284</td>\n",
       "      <td>0.084079</td>\n",
       "      <td>0.660000</td>\n",
       "    </tr>\n",
       "    <tr>\n",
       "      <th>3</th>\n",
       "      <td>0.022749</td>\n",
       "      <td>0.033801</td>\n",
       "      <td>0.125044</td>\n",
       "      <td>0.263253</td>\n",
       "      <td>0.251509</td>\n",
       "      <td>0.658532</td>\n",
       "      <td>0.432160</td>\n",
       "      <td>0.344932</td>\n",
       "      <td>0.150018</td>\n",
       "      <td>0.068317</td>\n",
       "      <td>0.651297</td>\n",
       "      <td>0.989989</td>\n",
       "      <td>0.015990</td>\n",
       "      <td>0.631111</td>\n",
       "    </tr>\n",
       "    <tr>\n",
       "      <th>4</th>\n",
       "      <td>0.022148</td>\n",
       "      <td>0.029374</td>\n",
       "      <td>0.121057</td>\n",
       "      <td>0.521126</td>\n",
       "      <td>0.399670</td>\n",
       "      <td>0.448086</td>\n",
       "      <td>0.520158</td>\n",
       "      <td>0.495342</td>\n",
       "      <td>0.104383</td>\n",
       "      <td>0.069360</td>\n",
       "      <td>0.560116</td>\n",
       "      <td>0.998723</td>\n",
       "      <td>0.092782</td>\n",
       "      <td>0.693333</td>\n",
       "    </tr>\n",
       "    <tr>\n",
       "      <th>...</th>\n",
       "      <td>...</td>\n",
       "      <td>...</td>\n",
       "      <td>...</td>\n",
       "      <td>...</td>\n",
       "      <td>...</td>\n",
       "      <td>...</td>\n",
       "      <td>...</td>\n",
       "      <td>...</td>\n",
       "      <td>...</td>\n",
       "      <td>...</td>\n",
       "      <td>...</td>\n",
       "      <td>...</td>\n",
       "      <td>...</td>\n",
       "      <td>...</td>\n",
       "    </tr>\n",
       "    <tr>\n",
       "      <th>501</th>\n",
       "      <td>0.028702</td>\n",
       "      <td>0.019528</td>\n",
       "      <td>0.455716</td>\n",
       "      <td>0.097575</td>\n",
       "      <td>0.576859</td>\n",
       "      <td>0.588769</td>\n",
       "      <td>0.654701</td>\n",
       "      <td>0.188444</td>\n",
       "      <td>0.007595</td>\n",
       "      <td>0.165409</td>\n",
       "      <td>0.736795</td>\n",
       "      <td>0.982923</td>\n",
       "      <td>0.219891</td>\n",
       "      <td>0.386667</td>\n",
       "    </tr>\n",
       "    <tr>\n",
       "      <th>502</th>\n",
       "      <td>0.034217</td>\n",
       "      <td>0.009498</td>\n",
       "      <td>0.490485</td>\n",
       "      <td>0.372934</td>\n",
       "      <td>0.532351</td>\n",
       "      <td>0.580505</td>\n",
       "      <td>0.750547</td>\n",
       "      <td>0.143776</td>\n",
       "      <td>0.051186</td>\n",
       "      <td>0.166428</td>\n",
       "      <td>0.867950</td>\n",
       "      <td>0.995114</td>\n",
       "      <td>0.207453</td>\n",
       "      <td>0.346667</td>\n",
       "    </tr>\n",
       "    <tr>\n",
       "      <th>503</th>\n",
       "      <td>0.035352</td>\n",
       "      <td>0.021495</td>\n",
       "      <td>0.423918</td>\n",
       "      <td>0.397988</td>\n",
       "      <td>0.349407</td>\n",
       "      <td>0.610529</td>\n",
       "      <td>0.907637</td>\n",
       "      <td>0.087385</td>\n",
       "      <td>0.083448</td>\n",
       "      <td>0.164870</td>\n",
       "      <td>0.782704</td>\n",
       "      <td>0.995791</td>\n",
       "      <td>0.094044</td>\n",
       "      <td>0.420000</td>\n",
       "    </tr>\n",
       "    <tr>\n",
       "      <th>504</th>\n",
       "      <td>0.026182</td>\n",
       "      <td>0.028603</td>\n",
       "      <td>0.443442</td>\n",
       "      <td>0.509663</td>\n",
       "      <td>0.229142</td>\n",
       "      <td>0.667841</td>\n",
       "      <td>0.867135</td>\n",
       "      <td>0.236241</td>\n",
       "      <td>0.016177</td>\n",
       "      <td>0.167554</td>\n",
       "      <td>0.749186</td>\n",
       "      <td>0.986855</td>\n",
       "      <td>0.107399</td>\n",
       "      <td>0.377778</td>\n",
       "    </tr>\n",
       "    <tr>\n",
       "      <th>505</th>\n",
       "      <td>0.045519</td>\n",
       "      <td>0.029289</td>\n",
       "      <td>0.446156</td>\n",
       "      <td>0.499371</td>\n",
       "      <td>0.239768</td>\n",
       "      <td>0.379320</td>\n",
       "      <td>0.775146</td>\n",
       "      <td>0.157582</td>\n",
       "      <td>0.084328</td>\n",
       "      <td>0.166314</td>\n",
       "      <td>0.835237</td>\n",
       "      <td>0.994221</td>\n",
       "      <td>0.146302</td>\n",
       "      <td>0.153333</td>\n",
       "    </tr>\n",
       "  </tbody>\n",
       "</table>\n",
       "<p>506 rows × 14 columns</p>\n",
       "</div>"
      ],
      "text/plain": [
       "           x1        x2        x3        x4        x5        x6        x7  \\\n",
       "0    0.034633  0.206919  0.137057  0.540526  0.193941  0.699239  0.630532   \n",
       "1    0.028920  0.014315  0.276113  0.255945  0.618886  0.555407  0.782263   \n",
       "2    0.020627  0.033230  0.281116  0.525591  0.165269  0.624102  0.586005   \n",
       "3    0.022749  0.033801  0.125044  0.263253  0.251509  0.658532  0.432160   \n",
       "4    0.022148  0.029374  0.121057  0.521126  0.399670  0.448086  0.520158   \n",
       "..        ...       ...       ...       ...       ...       ...       ...   \n",
       "501  0.028702  0.019528  0.455716  0.097575  0.576859  0.588769  0.654701   \n",
       "502  0.034217  0.009498  0.490485  0.372934  0.532351  0.580505  0.750547   \n",
       "503  0.035352  0.021495  0.423918  0.397988  0.349407  0.610529  0.907637   \n",
       "504  0.026182  0.028603  0.443442  0.509663  0.229142  0.667841  0.867135   \n",
       "505  0.045519  0.029289  0.446156  0.499371  0.239768  0.379320  0.775146   \n",
       "\n",
       "           x8        x9       x10       x11       x12       x13     Price  \n",
       "0    0.239410  0.027375  0.209857  0.347609  0.996394  0.102644  0.422222  \n",
       "1    0.482977  0.103031  0.106690  0.520776  0.996650  0.187120  0.368889  \n",
       "2    0.272713  0.036010  0.106986  0.595301  0.983284  0.084079  0.660000  \n",
       "3    0.344932  0.150018  0.068317  0.651297  0.989989  0.015990  0.631111  \n",
       "4    0.495342  0.104383  0.069360  0.560116  0.998723  0.092782  0.693333  \n",
       "..        ...       ...       ...       ...       ...       ...       ...  \n",
       "501  0.188444  0.007595  0.165409  0.736795  0.982923  0.219891  0.386667  \n",
       "502  0.143776  0.051186  0.166428  0.867950  0.995114  0.207453  0.346667  \n",
       "503  0.087385  0.083448  0.164870  0.782704  0.995791  0.094044  0.420000  \n",
       "504  0.236241  0.016177  0.167554  0.749186  0.986855  0.107399  0.377778  \n",
       "505  0.157582  0.084328  0.166314  0.835237  0.994221  0.146302  0.153333  \n",
       "\n",
       "[506 rows x 14 columns]"
      ]
     },
     "execution_count": 3,
     "metadata": {},
     "output_type": "execute_result"
    }
   ],
   "source": [
    "df = pd.read_csv('./data/reg.csv', index_col=[0])\n",
    "df"
   ]
  },
  {
   "cell_type": "code",
   "execution_count": 4,
   "id": "db8deed5",
   "metadata": {},
   "outputs": [
    {
     "name": "stdout",
     "output_type": "stream",
     "text": [
      "(506, 13) (506, 1)\n"
     ]
    }
   ],
   "source": [
    "X = df.drop(columns=[\"Price\"]).to_numpy()\n",
    "Y = df['Price'].to_numpy().reshape(-1, 1)\n",
    "print(X.shape, Y.shape)"
   ]
  },
  {
   "cell_type": "markdown",
   "id": "ef97d955",
   "metadata": {},
   "source": [
    "# 텐서 데이터 만들기"
   ]
  },
  {
   "cell_type": "code",
   "execution_count": 5,
   "id": "6f1bcef3",
   "metadata": {},
   "outputs": [],
   "source": [
    "class TensorData(Dataset):\n",
    "    def __init__(self, x_data, y_data):\n",
    "        self.x_data = torch.FloatTensor(x_data)\n",
    "        self.y_data = torch.FloatTensor(y_data)\n",
    "        self.len = self.y_data.shape[0]\n",
    "        \n",
    "    def __getitem__(self, idx):\n",
    "        return self.x_data[idx], self.y_data[idx]\n",
    "    \n",
    "    def __len__(self):\n",
    "        return self.len"
   ]
  },
  {
   "cell_type": "code",
   "execution_count": 9,
   "id": "dd8e9b00",
   "metadata": {},
   "outputs": [],
   "source": [
    "X_train, X_test, Y_train, Y_test = train_test_split(X, Y, test_size=0.7)\n",
    "trainset = TensorData(X_train, Y_train)\n",
    "testset = TensorData(X_test, Y_test)\n",
    "\n",
    "testloader = DataLoader(testset, batch_size = 32, shuffle = True)"
   ]
  },
  {
   "cell_type": "code",
   "execution_count": 10,
   "id": "52925f34",
   "metadata": {},
   "outputs": [
    {
     "name": "stdout",
     "output_type": "stream",
     "text": [
      "(151, 13) (355, 13)\n"
     ]
    }
   ],
   "source": [
    "print(X_train.shape, X_test.shape)"
   ]
  },
  {
   "cell_type": "markdown",
   "id": "1dbfa386",
   "metadata": {},
   "source": [
    "# 모델 구축"
   ]
  },
  {
   "cell_type": "code",
   "execution_count": 11,
   "id": "bf1af1df",
   "metadata": {},
   "outputs": [],
   "source": [
    "class Regressor(nn.Module):\n",
    "    def __init__(self):\n",
    "        super().__init__()\n",
    "        self.fc1 = nn.Linear(13, 50, bias = True)\n",
    "        self.fc2 = nn.Linear(50, 30, bias = True)\n",
    "        self.fc3 = nn.Linear(30, 1, bias = True)\n",
    "        \n",
    "    def forward(self, x):\n",
    "        x = self.fc1(x)\n",
    "        x = self.fc2(x)\n",
    "        x = self.fc3(x)\n",
    "        return x"
   ]
  },
  {
   "cell_type": "markdown",
   "id": "d213538c",
   "metadata": {},
   "source": [
    "# 손실 함수와 교차 검증 정의"
   ]
  },
  {
   "cell_type": "code",
   "execution_count": 14,
   "id": "0951eb59",
   "metadata": {},
   "outputs": [],
   "source": [
    "kfold = KFold(n_splits = 3, shuffle = True)\n",
    "criterion = nn.MSELoss()"
   ]
  },
  {
   "cell_type": "markdown",
   "id": "be6b9b13",
   "metadata": {},
   "source": [
    "# 평가 함수 정의"
   ]
  },
  {
   "cell_type": "code",
   "execution_count": 47,
   "id": "82ae8ca3",
   "metadata": {},
   "outputs": [],
   "source": [
    "def evaluation(dataloader):\n",
    "    pred = torch.tensor([], dtype = torch.float)\n",
    "    actual = torch.tensor([], dtype = torch.float)\n",
    "    \n",
    "    with torch.no_grad():\n",
    "        model.eval() # 평가를 할 때는 .eval()을 반드시 사용해야 함.\n",
    "        for data in dataloader:\n",
    "            inputs, values = data\n",
    "            outputs = model(inputs)\n",
    "            \n",
    "            pred = torch.cat((pred, outputs), 0) # 예측값 누적\n",
    "            actual = torch.cat((actual ,values), 0) # 실제값 누적\n",
    "            \n",
    "    pred = pred.numpy()\n",
    "    actual = actual.numpy()\n",
    "    rmse = np.sqrt(mean_squared_error(pred, actual))\n",
    "    model.train()\n",
    "    \n",
    "    return rmse"
   ]
  },
  {
   "cell_type": "markdown",
   "id": "a5152e79",
   "metadata": {},
   "source": [
    "# 교차 검증을 이용한 학습 및 평가"
   ]
  },
  {
   "cell_type": "code",
   "execution_count": 49,
   "id": "c04498f9",
   "metadata": {},
   "outputs": [
    {
     "name": "stdout",
     "output_type": "stream",
     "text": [
      "k-fold 0 Train Loss : 0.1200, Validation Loss : 0.0802\n",
      "k-fold 1 Train Loss : 0.0917, Validation Loss : 0.1488\n",
      "k-fold 2 Train Loss : 0.1034, Validation Loss : 0.1337\n"
     ]
    }
   ],
   "source": [
    "validation_loss = []\n",
    "for fold, (train_idx, val_idx) in enumerate(kfold.split(trainset)):\n",
    "    # 3개의 폴드로 나눠진 훈련세트와 검증세트를 Tensor 형태로 되어있는 것들을 불러오기 위해 index 역할을 하도록\n",
    "    # train_idx와 val_idx를 섞는 SubsetRandomSampler()를 사용.\n",
    "    train_subsampler = torch.utils.data.SubsetRandomSampler(train_idx)\n",
    "    val_subsampler = torch.utils.data.SubsetRandomSampler(val_idx)\n",
    "    \n",
    "    trainloader = DataLoader(trainset, batch_size = 32, sampler = train_subsampler)\n",
    "    valloader = DataLoader(trainset, batch_size = 32, sampler = val_subsampler)\n",
    "    \n",
    "    model = Regressor()\n",
    "    optimizer = optim.Adam(model.parameters(), lr = 0.001, weight_decay = 1e-7)\n",
    "    \n",
    "    for epoch in range(400):\n",
    "        for data in trainloader:\n",
    "            inputs, values = data\n",
    "            optimizer.zero_grad()\n",
    "            \n",
    "            outputs = model(inputs)\n",
    "            loss = criterion(outputs, values)\n",
    "            loss.backward()\n",
    "            optimizer.step()\n",
    "            \n",
    "    train_rmse = evaluation(trainloader)\n",
    "    val_rmse = evaluation(valloader)\n",
    "    print(\"k-fold {} Train Loss : {:.4f}, Validation Loss : {:.4f}\".format(fold, train_rmse, val_rmse))\n",
    "    validation_loss.append(val_rmse)"
   ]
  },
  {
   "cell_type": "markdown",
   "id": "bbada2f3",
   "metadata": {},
   "source": [
    "# 검증 점수 산출"
   ]
  },
  {
   "cell_type": "code",
   "execution_count": 51,
   "id": "05ac442e",
   "metadata": {},
   "outputs": [
    {
     "name": "stdout",
     "output_type": "stream",
     "text": [
      "Validation Score : 0.1209, ± 0.0294\n"
     ]
    }
   ],
   "source": [
    "validation_loss = np.array(validation_loss)\n",
    "mean = np.mean(validation_loss)\n",
    "std = np.std(validation_loss)\n",
    "print(\"Validation Score : {:.4f}, ± {:.4f}\".format(mean, std))"
   ]
  },
  {
   "cell_type": "markdown",
   "id": "8b571e96",
   "metadata": {},
   "source": [
    "# 모델 평가"
   ]
  },
  {
   "cell_type": "code",
   "execution_count": 53,
   "id": "8565217f",
   "metadata": {},
   "outputs": [
    {
     "name": "stdout",
     "output_type": "stream",
     "text": [
      "Train RMSE : 0.11435050517320633\n",
      "Test RMSE : 0.1415221393108368\n"
     ]
    }
   ],
   "source": [
    "# \n",
    "trainloader = DataLoader(trainset, batch_size = 32, shuffle = True)\n",
    "train_rmse = evaluation(trainloader)\n",
    "test_rmse = evaluation(testloader)\n",
    "\n",
    "print(\"Train RMSE : {}\".format(train_rmse))\n",
    "print(\"Test RMSE : {}\".format(test_rmse))"
   ]
  }
 ],
 "metadata": {
  "hide_input": false,
  "kernelspec": {
   "display_name": "Python 3 (ipykernel)",
   "language": "python",
   "name": "python3"
  },
  "language_info": {
   "codemirror_mode": {
    "name": "ipython",
    "version": 3
   },
   "file_extension": ".py",
   "mimetype": "text/x-python",
   "name": "python",
   "nbconvert_exporter": "python",
   "pygments_lexer": "ipython3",
   "version": "3.8.12"
  },
  "toc": {
   "base_numbering": 1,
   "nav_menu": {},
   "number_sections": true,
   "sideBar": true,
   "skip_h1_title": false,
   "title_cell": "Table of Contents",
   "title_sidebar": "Contents",
   "toc_cell": false,
   "toc_position": {},
   "toc_section_display": true,
   "toc_window_display": true
  },
  "varInspector": {
   "cols": {
    "lenName": 16,
    "lenType": 16,
    "lenVar": 40
   },
   "kernels_config": {
    "python": {
     "delete_cmd_postfix": "",
     "delete_cmd_prefix": "del ",
     "library": "var_list.py",
     "varRefreshCmd": "print(var_dic_list())"
    },
    "r": {
     "delete_cmd_postfix": ") ",
     "delete_cmd_prefix": "rm(",
     "library": "var_list.r",
     "varRefreshCmd": "cat(var_dic_list()) "
    }
   },
   "position": {
    "height": "518.85px",
    "left": "1046px",
    "right": "20px",
    "top": "-1px",
    "width": "476px"
   },
   "types_to_exclude": [
    "module",
    "function",
    "builtin_function_or_method",
    "instance",
    "_Feature"
   ],
   "window_display": true
  }
 },
 "nbformat": 4,
 "nbformat_minor": 5
}
