{
  "nbformat": 4,
  "nbformat_minor": 0,
  "metadata": {
    "colab": {
      "name": "AlexNet 구현_진완혁.ipynb",
      "provenance": []
    },
    "kernelspec": {
      "name": "python3",
      "display_name": "Python 3"
    },
    "language_info": {
      "name": "python"
    },
    "accelerator": "GPU"
  },
  "cells": [
    {
      "cell_type": "code",
      "execution_count": 1,
      "metadata": {
        "id": "MOdc3PrR6_CR"
      },
      "outputs": [],
      "source": [
        "import torch\n",
        "import torchvision\n",
        "import torchvision.transforms as transforms\n",
        "from torch.utils.data import DataLoader\n",
        "import torch.nn as nn\n",
        "import torch.nn.functional as F\n",
        "import torch.optim as optim\n",
        "import matplotlib.pyplot as plt"
      ]
    },
    {
      "cell_type": "markdown",
      "source": [
        "# CIFAR10 데이터 세트 불러오기"
      ],
      "metadata": {
        "id": "PqO4nQmg7gAj"
      }
    },
    {
      "cell_type": "code",
      "source": [
        "transform = transforms.Compose([transforms.ToTensor(), transforms.Normalize((0.5, 0.5, 0.5),(0.5, 0.5, 0.5))])\n",
        "trainset = torchvision.datasets.CIFAR10(root=\"./data\", train=True, download = True, transform = transform)\n",
        "testset = torchvision.datasets.CIFAR10(root=\"./data\", train=False, download = True, transform = transform)\n",
        "\n",
        "trainloader = DataLoader(trainset, batch_size = 32, shuffle = True)\n",
        "testloader = DataLoader(testset, batch_size = 32, shuffle = True)"
      ],
      "metadata": {
        "colab": {
          "base_uri": "https://localhost:8080/"
        },
        "id": "ha6oHSoH7QGP",
        "outputId": "132fe091-a80d-43f4-ed62-2d8639ac93ad"
      },
      "execution_count": 3,
      "outputs": [
        {
          "output_type": "stream",
          "name": "stdout",
          "text": [
            "Files already downloaded and verified\n",
            "Files already downloaded and verified\n"
          ]
        }
      ]
    },
    {
      "cell_type": "markdown",
      "source": [
        "# GPU 연산 체크하기"
      ],
      "metadata": {
        "id": "OmHk7cIP8KvJ"
      }
    },
    {
      "cell_type": "code",
      "source": [
        "device = torch.device(\"cuda:0\" if torch.cuda.is_available() else \"cpu\")\n",
        "print(device)"
      ],
      "metadata": {
        "colab": {
          "base_uri": "https://localhost:8080/"
        },
        "id": "lqaXcYqo8SFW",
        "outputId": "cb3f6628-1754-4f6f-c947-827afdbd7676"
      },
      "execution_count": 4,
      "outputs": [
        {
          "output_type": "stream",
          "name": "stdout",
          "text": [
            "cuda:0\n"
          ]
        }
      ]
    },
    {
      "cell_type": "markdown",
      "source": [
        "# AlexNet 구축하기\n",
        "AlexNet은 1000개의 클래스로 분류되어 있는 256x256 또는 224x224 크기를 갖는 이미지에서 잘 동작한다. 그렇기 때문에 32x32인 CIFAR10 이미지를 filter의 size와 stride를 잘 조정해서 모델을 구축해야 한다."
      ],
      "metadata": {
        "id": "Zw5JQ7wK8Zhy"
      }
    },
    {
      "cell_type": "code",
      "source": [
        "class AlexNet(nn.Module):\n",
        "    def __init__(self):\n",
        "        super(AlexNet, self).__init__()\n",
        "        \n",
        "        # 합성곱 층\n",
        "        self.features = nn.Sequential(\n",
        "                            nn.Conv2d(in_channels = 3, out_channels = 64, kernel_size = 3), nn.ReLU(),\n",
        "                            nn.MaxPool2d(2),\n",
        "                            nn.Conv2d(64, 192, kernel_size = 3, padding = 1), nn.ReLU(),\n",
        "                            nn.MaxPool2d(2),\n",
        "                            nn.Conv2d(192, 384, 3, padding = 1), nn.ReLU(),\n",
        "                            nn.Conv2d(384, 256, 3, padding = 1), nn.ReLU(),\n",
        "                            nn.Conv2d(256, 256, kernel_size = 1), nn.ReLU(),\n",
        "                            nn.MaxPool2d(2),\n",
        "                            )\n",
        "        \n",
        "        # 완전 연결 층\n",
        "        self.classifier = nn.Sequential(\n",
        "                            nn.Dropout(0.5),\n",
        "                            nn.Linear(3*3*256, 1024), nn.ReLU(),\n",
        "                            nn.Dropout(0.5),\n",
        "                            nn.Linear(1024, 512), nn.ReLU(),\n",
        "                            nn.Linear(512, 10),\n",
        "                            )\n",
        "        \n",
        "    def forward(self, x):\n",
        "        x = self.features(x)\n",
        "        x = x.view(x.size(0), -1)\n",
        "        x = self.classifier(x)\n",
        "\n",
        "        return x"
      ],
      "metadata": {
        "id": "AnQnaJhr8c6V"
      },
      "execution_count": 16,
      "outputs": []
    },
    {
      "cell_type": "markdown",
      "source": [
        "# 손실 함수 및 최적화 방법 정의하기\n",
        "다중 분류 문제에서는 Cross Entropy Loss를 기본으로 사용한다."
      ],
      "metadata": {
        "id": "GN-sXs_tFT9u"
      }
    },
    {
      "cell_type": "code",
      "source": [
        "criterion = nn.CrossEntropyLoss()\n",
        "alexnet = AlexNet().to(device)\n",
        "optimizer = optim.Adam(alexnet.parameters(), lr = 1e-3)"
      ],
      "metadata": {
        "id": "QdhnhCqFH4By"
      },
      "execution_count": 17,
      "outputs": []
    },
    {
      "cell_type": "markdown",
      "source": [
        "# AlexNet 모델 학습하기"
      ],
      "metadata": {
        "id": "AeTeZR3_IDY4"
      }
    },
    {
      "cell_type": "code",
      "source": [
        "loss_ = []\n",
        "n = len(trainloader)\n",
        "\n",
        "for epoch in range(50):\n",
        "    running_loss = 0.0\n",
        "\n",
        "    for data in trainloader:\n",
        "        inputs, labels = data[0].to(device), data[1].to(device)\n",
        "\n",
        "        optimizer.zero_grad()\n",
        "        outputs = alexnet(inputs) # 예측값 산출\n",
        "        loss = criterion(outputs, labels) # 손실 함수 계산\n",
        "        loss.backward() # 손실 함수 기준으로 역전파 선언\n",
        "        optimizer.step() # 가중치 업데이트(최적화)\n",
        "\n",
        "        running_loss += loss\n",
        "    \n",
        "    loss_.append(running_loss / n)\n",
        "\n",
        "    print(\"[{}] loss : {:.3f}\".format(epoch+1, running_loss / n))"
      ],
      "metadata": {
        "colab": {
          "base_uri": "https://localhost:8080/"
        },
        "id": "-j09tVSCHRwR",
        "outputId": "4bb253ca-6161-424e-c6e9-1187c1cf8100"
      },
      "execution_count": 18,
      "outputs": [
        {
          "output_type": "stream",
          "name": "stdout",
          "text": [
            "[1] loss : 1.635\n",
            "[2] loss : 1.192\n",
            "[3] loss : 0.997\n",
            "[4] loss : 0.880\n",
            "[5] loss : 0.801\n",
            "[6] loss : 0.731\n",
            "[7] loss : 0.695\n",
            "[8] loss : 0.646\n",
            "[9] loss : 0.614\n",
            "[10] loss : 0.578\n",
            "[11] loss : 0.553\n",
            "[12] loss : 0.530\n",
            "[13] loss : 0.509\n",
            "[14] loss : 0.489\n",
            "[15] loss : 0.471\n",
            "[16] loss : 0.457\n",
            "[17] loss : 0.432\n",
            "[18] loss : 0.423\n",
            "[19] loss : 0.415\n",
            "[20] loss : 0.405\n",
            "[21] loss : 0.373\n",
            "[22] loss : 0.367\n",
            "[23] loss : 0.355\n",
            "[24] loss : 0.348\n",
            "[25] loss : 0.342\n",
            "[26] loss : 0.325\n",
            "[27] loss : 0.317\n",
            "[28] loss : 0.306\n",
            "[29] loss : 0.305\n",
            "[30] loss : 0.290\n",
            "[31] loss : 0.298\n",
            "[32] loss : 0.283\n",
            "[33] loss : 0.283\n",
            "[34] loss : 0.284\n",
            "[35] loss : 0.283\n",
            "[36] loss : 0.274\n",
            "[37] loss : 0.273\n",
            "[38] loss : 0.261\n",
            "[39] loss : 0.259\n",
            "[40] loss : 0.248\n",
            "[41] loss : 0.253\n",
            "[42] loss : 0.268\n",
            "[43] loss : 0.275\n",
            "[44] loss : 0.233\n",
            "[45] loss : 0.267\n",
            "[46] loss : 0.241\n",
            "[47] loss : 0.289\n",
            "[48] loss : 0.280\n",
            "[49] loss : 0.273\n",
            "[50] loss : 0.239\n"
          ]
        }
      ]
    },
    {
      "cell_type": "markdown",
      "source": [
        "# 학습 손실 함수 그래프 그리기"
      ],
      "metadata": {
        "id": "gDlvPQCfJNUy"
      }
    },
    {
      "cell_type": "code",
      "source": [
        "loss_2 = [i.item() for i in loss_]\n",
        "loss_2"
      ],
      "metadata": {
        "id": "VJQwclJxQ70m",
        "outputId": "3fd75a50-a82d-46cc-ba59-fed03376960e",
        "colab": {
          "base_uri": "https://localhost:8080/"
        }
      },
      "execution_count": 24,
      "outputs": [
        {
          "output_type": "execute_result",
          "data": {
            "text/plain": [
              "[1.6347919702529907,\n",
              " 1.1917921304702759,\n",
              " 0.9973366856575012,\n",
              " 0.8799262642860413,\n",
              " 0.8007336258888245,\n",
              " 0.73119056224823,\n",
              " 0.6945058107376099,\n",
              " 0.646226704120636,\n",
              " 0.6137570738792419,\n",
              " 0.5779778361320496,\n",
              " 0.5534946918487549,\n",
              " 0.5298128724098206,\n",
              " 0.5086390376091003,\n",
              " 0.489371657371521,\n",
              " 0.4708586633205414,\n",
              " 0.4569735825061798,\n",
              " 0.43236029148101807,\n",
              " 0.4226857125759125,\n",
              " 0.4154830276966095,\n",
              " 0.4045468270778656,\n",
              " 0.37291547656059265,\n",
              " 0.3667314648628235,\n",
              " 0.3545840084552765,\n",
              " 0.34803077578544617,\n",
              " 0.3424401581287384,\n",
              " 0.32460451126098633,\n",
              " 0.3169046938419342,\n",
              " 0.3056054711341858,\n",
              " 0.3054354190826416,\n",
              " 0.28981223702430725,\n",
              " 0.29754558205604553,\n",
              " 0.28293612599372864,\n",
              " 0.282794713973999,\n",
              " 0.284321129322052,\n",
              " 0.28279852867126465,\n",
              " 0.27363136410713196,\n",
              " 0.27304577827453613,\n",
              " 0.2607834041118622,\n",
              " 0.2594764828681946,\n",
              " 0.24768011271953583,\n",
              " 0.25332731008529663,\n",
              " 0.26773640513420105,\n",
              " 0.27538764476776123,\n",
              " 0.23321889340877533,\n",
              " 0.26737573742866516,\n",
              " 0.24085365235805511,\n",
              " 0.2891041934490204,\n",
              " 0.28016501665115356,\n",
              " 0.27330878376960754,\n",
              " 0.23871026933193207]"
            ]
          },
          "metadata": {},
          "execution_count": 24
        }
      ]
    },
    {
      "cell_type": "code",
      "source": [
        "plt.plot(loss_2)\n",
        "plt.title(\"Training Loss\")\n",
        "plt.xlabel(\"epoch\")\n",
        "plt.show()"
      ],
      "metadata": {
        "id": "vL6m176jKu4Y",
        "outputId": "e3a7e09c-249a-4d2c-9576-af19013842d1",
        "colab": {
          "base_uri": "https://localhost:8080/",
          "height": 295
        }
      },
      "execution_count": 25,
      "outputs": [
        {
          "output_type": "display_data",
          "data": {
            "image/png": "[encoded data removed]",
            "text/plain": [
              "<Figure size 432x288 with 1 Axes>"
            ]
          },
          "metadata": {
            "needs_background": "light"
          }
        }
      ]
    },
    {
      "cell_type": "markdown",
      "source": [
        "# 평가하기"
      ],
      "metadata": {
        "id": "db1M3QclNWi6"
      }
    },
    {
      "cell_type": "code",
      "source": [
        "correct = 0\n",
        "total = 0\n",
        "with torch.no_grad():\n",
        "    alexnet.eval()\n",
        "\n",
        "    for data in testloader:\n",
        "        images, labels = data[0].to(device), data[1].to(device)\n",
        "        outputs = alexnet(images)\n",
        "\n",
        "        _, pred = torch.max(outputs, 1) # torch.max는 최대값과 최대값의 index를 반환한다.\n",
        "        \n",
        "        total += labels.size(0) # 개수 누적(총 개수)\n",
        "        correct += (pred == labels).sum().item()\n",
        "\n",
        "print(\"Test Accuracy : {:.2f}%\".format(100*correct/total))"
      ],
      "metadata": {
        "id": "2KBNrOa0NYNx",
        "outputId": "a372129a-a3ac-40e7-cded-7b42b80aeb71",
        "colab": {
          "base_uri": "https://localhost:8080/"
        }
      },
      "execution_count": 27,
      "outputs": [
        {
          "output_type": "stream",
          "name": "stdout",
          "text": [
            "Test Accuracy : 75.09%\n"
          ]
        }
      ]
    },
    {
      "cell_type": "code",
      "source": [
        ""
      ],
      "metadata": {
        "id": "whD4EnPlOJ9J"
      },
      "execution_count": null,
      "outputs": []
    }
  ]
}