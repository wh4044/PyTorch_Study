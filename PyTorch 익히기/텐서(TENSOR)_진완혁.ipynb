{
 "cells": [
  {
   "cell_type": "markdown",
   "id": "bdb0f30d",
   "metadata": {},
   "source": [
    "# 텐서(TENSOR)\n",
    "- 텐서는 GPU나 다른 하드웨어 가속기에서 실행할 수 있다는 점만 제외하면 NumPy의 ndnarray와 유사하다."
   ]
  },
  {
   "cell_type": "code",
   "execution_count": 1,
   "id": "68af26bb",
   "metadata": {},
   "outputs": [],
   "source": [
    "import torch\n",
    "import numpy as np"
   ]
  },
  {
   "cell_type": "markdown",
   "id": "b76a4562",
   "metadata": {},
   "source": [
    "# 텐서(tensor) 초기화\n",
    "\n",
    "- 텐서는 여러가지 방법으로 초기화할 수 있다.\n",
    "- **데이터로부터 직접(directly) 생성하기**\n",
    "- 데이터로부터 직접 텐서를 생성할 수 있다. 데이터의 자료형(data type)은 자동으로 유추한다."
   ]
  },
  {
   "cell_type": "code",
   "execution_count": 3,
   "id": "7fc0e387",
   "metadata": {},
   "outputs": [
    {
     "data": {
      "text/plain": [
       "tensor([[1, 2],\n",
       "        [3, 4]])"
      ]
     },
     "execution_count": 3,
     "metadata": {},
     "output_type": "execute_result"
    }
   ],
   "source": [
    "data = [[1, 2], [3, 4]]\n",
    "x_data = torch.tensor(data)\n",
    "x_data\n",
    "\n",
    "# tensor([[1, 2],\n",
    "#         [3, 4]])"
   ]
  },
  {
   "cell_type": "markdown",
   "id": "f3dbecce",
   "metadata": {},
   "source": [
    "## NumPy 배열로부터 생성하기\n",
    "- 텐서는 NumPy 배열로 생성할 수 있다."
   ]
  },
  {
   "cell_type": "code",
   "execution_count": 4,
   "id": "4d3af087",
   "metadata": {},
   "outputs": [
    {
     "data": {
      "text/plain": [
       "tensor([[1, 2],\n",
       "        [3, 4]], dtype=torch.int32)"
      ]
     },
     "execution_count": 4,
     "metadata": {},
     "output_type": "execute_result"
    }
   ],
   "source": [
    "np_array = np.array(data)\n",
    "x_np = torch.from_numpy(np_array)\n",
    "x_np\n",
    "\n",
    "# tensor([[1, 2],\n",
    "#         [3, 4]], dtype=torch.int32)"
   ]
  },
  {
   "cell_type": "markdown",
   "id": "3f627869",
   "metadata": {},
   "source": [
    "## 다른 텐서로부터 생성하기\n",
    "- 명시적으로 재정의(override)하지 않는다면, 인자로 주어진 텐서의 속성(모양(shape), 자료형(datatype))을 유지한다."
   ]
  },
  {
   "cell_type": "code",
   "execution_count": 5,
   "id": "15767951",
   "metadata": {},
   "outputs": [
    {
     "name": "stdout",
     "output_type": "stream",
     "text": [
      "Ones Tensor: \n",
      " tensor([[1, 1],\n",
      "        [1, 1]]) \n",
      "\n",
      "Random Tensor: \n",
      " tensor([[0.8170, 0.8521],\n",
      "        [0.9835, 0.6030]]) \n",
      "\n"
     ]
    }
   ],
   "source": [
    "x_ones = torch.ones_like(x_data) # x_data의 속성을 유지한다.\n",
    "print(\"Ones Tensor: \\n {} \\n\".format(x_ones))\n",
    "\n",
    "x_rand = torch.rand_like(x_data, dtype=torch.float) # x_data의 속성을 덮어씁니다.\n",
    "print(\"Random Tensor: \\n {} \\n\".format(x_rand))\n",
    "\n",
    "# Ones Tensor: \n",
    "#  tensor([[1, 1],\n",
    "#         [1, 1]]) \n",
    "\n",
    "# Random Tensor: \n",
    "#  tensor([[0.8170, 0.8521],\n",
    "#         [0.9835, 0.6030]]) "
   ]
  },
  {
   "cell_type": "markdown",
   "id": "8492d432",
   "metadata": {},
   "source": [
    "## 무작위(random) 또는 상수( constanct)값 사용하기\n",
    "- shape은 텐서의 차원(dimension)을 나타내는 튜플(tuple)로, 아래 함수들에서는 출력 텐서의 차원을 결정한다."
   ]
  },
  {
   "cell_type": "code",
   "execution_count": 6,
   "id": "0957b416",
   "metadata": {},
   "outputs": [
    {
     "name": "stdout",
     "output_type": "stream",
     "text": [
      "Random Tensor: \n",
      " tensor([[0.2485, 0.6439, 0.5177],\n",
      "        [0.6080, 0.2484, 0.9851]]) \n",
      "\n",
      "Ones Tensor: \n",
      " tensor([[1., 1., 1.],\n",
      "        [1., 1., 1.]]) \n",
      "\n",
      "zeros Tensor: \n",
      " tensor([[0., 0., 0.],\n",
      "        [0., 0., 0.]]) \n",
      "\n"
     ]
    }
   ],
   "source": [
    "shape = (2, 3)\n",
    "rand_tensor = torch.rand(shape)\n",
    "ones_tensor = torch.ones(shape)\n",
    "zeros_tensor = torch.zeros(shape)\n",
    "\n",
    "print(\"Random Tensor: \\n {} \\n\".format(rand_tensor))\n",
    "print(\"Ones Tensor: \\n {} \\n\".format(ones_tensor))\n",
    "print(\"zeros Tensor: \\n {} \\n\".format(zeros_tensor))\n",
    "\n",
    "# Random Tensor: \n",
    "#  tensor([[0.2485, 0.6439, 0.5177],\n",
    "#         [0.6080, 0.2484, 0.9851]]) \n",
    "\n",
    "# Ones Tensor: \n",
    "#  tensor([[1., 1., 1.],\n",
    "#         [1., 1., 1.]]) \n",
    "\n",
    "# zeros Tensor: \n",
    "#  tensor([[0., 0., 0.],\n",
    "#         [0., 0., 0.]]) "
   ]
  },
  {
   "cell_type": "markdown",
   "id": "6a875079",
   "metadata": {},
   "source": [
    "# 텐서의 속성(Attribute)\n",
    "- 텐서의 속성은 텐서의 모양(shape), 자료형(datatype) 및 어느 장치에 저장되는지를 나타낸다."
   ]
  },
  {
   "cell_type": "code",
   "execution_count": 7,
   "id": "d576979c",
   "metadata": {},
   "outputs": [
    {
     "name": "stdout",
     "output_type": "stream",
     "text": [
      "Shape of tensor : torch.Size([3, 4])\n",
      "Datatype of tensor : torch.float32\n",
      "Device tensor is stored on : cpu\n"
     ]
    }
   ],
   "source": [
    "tensor = torch.rand(3, 4)\n",
    "\n",
    "print(\"Shape of tensor : {}\".format(tensor.shape))\n",
    "print(\"Datatype of tensor : {}\".format(tensor.dtype))\n",
    "print(\"Device tensor is stored on : {}\".format(tensor.device))\n",
    "\n",
    "# Shape of tensor : torch.Size([3, 4])\n",
    "# Datatype of tensor : torch.float32\n",
    "# Device tensor is stored on : cpu"
   ]
  },
  {
   "cell_type": "markdown",
   "id": "e2b91fdc",
   "metadata": {},
   "source": [
    "# 텐서 연산(Operation)\n",
    "- 전치(transposing), 인덱싱(indexing), 슬라이싱(slicing), 수학 계산, 선형 대수, 임의 샘플링(random sampling) 등 100가지 이상의 텐서 연산들을 [여기](https://pytorch.org/docs/stable/torch.html)에\n",
    "서 확인할 수 있다.\n",
    "\n",
    "\n",
    "- 각 연산들은(일반적으로 CPU보다 빠른) GPU에서 실행할 수 있다.\n",
    "\n",
    "\n",
    "- 기본적으로 텐서는 CPU에 생성된다. `.to` 메소드를 사용하면(GPU의 가용성을 확인한 뒤) GPU로 텐서를 명시적으로 이동할 수 있다.\n",
    "    - 장치들간에 큰 텐서들을 복사하는 것은 시간과 메모리 측면에서 비용이 많이 든다는 것을 기억해야 한다."
   ]
  },
  {
   "cell_type": "code",
   "execution_count": 8,
   "id": "34f40c54",
   "metadata": {},
   "outputs": [],
   "source": [
    "# GPU가 존재하면 텐서를 이동한다.\n",
    "if torch.cuda.is_available():\n",
    "    tensor = tenso.to('cuda')"
   ]
  },
  {
   "cell_type": "markdown",
   "id": "3ce50696",
   "metadata": {},
   "source": [
    "- 목록에서 몇몇 연산들을 시도해보자. Numpy API에 익숙하다면 Tensor API를 사용하는 것은 식은 죽 먹기이다.\n",
    "## Numpy식의 표준 인덱싱과 슬라이싱 :"
   ]
  },
  {
   "cell_type": "code",
   "execution_count": 9,
   "id": "8445a660",
   "metadata": {},
   "outputs": [
    {
     "name": "stdout",
     "output_type": "stream",
     "text": [
      "First row:  tensor([1., 1., 1., 1.])\n",
      "First col:  tensor([1., 1., 1., 1.])\n",
      "Last col:  tensor([1., 1., 1., 1.])\n",
      "tensor([[1., 0., 1., 1.],\n",
      "        [1., 0., 1., 1.],\n",
      "        [1., 0., 1., 1.],\n",
      "        [1., 0., 1., 1.]])\n"
     ]
    }
   ],
   "source": [
    "tensor = torch.ones(4, 4)\n",
    "print(\"First row: \", tensor[0])\n",
    "print(\"First col: \", tensor[:, 0])\n",
    "print(\"Last col: \", tensor[:, -1])\n",
    "tensor[:, 1] = 0\n",
    "print(tensor)\n",
    "\n",
    "# First row:  tensor([1., 1., 1., 1.])\n",
    "# First col:  tensor([1., 1., 1., 1.])\n",
    "# Last col:  tensor([1., 1., 1., 1.])\n",
    "# tensor([[1., 0., 1., 1.],\n",
    "#         [1., 0., 1., 1.],\n",
    "#         [1., 0., 1., 1.],\n",
    "#         [1., 0., 1., 1.]])"
   ]
  },
  {
   "cell_type": "markdown",
   "id": "379217ea",
   "metadata": {},
   "source": [
    "- **텐서 합치기** => `torch.cat` 을 사용하여 주어진 차원에 따라 일련의 텐서를 연결할 수 있다.\n",
    "\n",
    "`torch.cat`과 미묘하게 다른 또 다른 텐서 결합 연산인 `torch.stack`도 있다."
   ]
  },
  {
   "cell_type": "code",
   "execution_count": 17,
   "id": "353127f4",
   "metadata": {},
   "outputs": [
    {
     "name": "stdout",
     "output_type": "stream",
     "text": [
      "tensor([[1., 0., 1., 1., 1., 0., 1., 1., 1., 0., 1., 1.],\n",
      "        [1., 0., 1., 1., 1., 0., 1., 1., 1., 0., 1., 1.],\n",
      "        [1., 0., 1., 1., 1., 0., 1., 1., 1., 0., 1., 1.],\n",
      "        [1., 0., 1., 1., 1., 0., 1., 1., 1., 0., 1., 1.]])\n"
     ]
    }
   ],
   "source": [
    "t1 = torch.cat([tensor, tensor, tensor], dim=1)\n",
    "print(t1)"
   ]
  },
  {
   "cell_type": "markdown",
   "id": "ff869544",
   "metadata": {},
   "source": [
    "## 산술 연산(Arithmetic operations)"
   ]
  },
  {
   "cell_type": "code",
   "execution_count": 24,
   "id": "6f68f225",
   "metadata": {},
   "outputs": [
    {
     "data": {
      "text/plain": [
       "tensor([[3., 3., 3., 3.],\n",
       "        [3., 3., 3., 3.],\n",
       "        [3., 3., 3., 3.],\n",
       "        [3., 3., 3., 3.]])"
      ]
     },
     "execution_count": 24,
     "metadata": {},
     "output_type": "execute_result"
    }
   ],
   "source": [
    "# 두 텐서 간의 행렬 곱(matrix multiplication)을 계산한다. y1, y2, y3은 모두 같은 값을 가진다.\n",
    "y1 = tensor @ tensor.T\n",
    "y2 = tensor.matmul(tensor.T)\n",
    "\n",
    "y3 = torch.rand_like(tensor)\n",
    "torch.matmul(tensor, tensor.T, out=y3)\n",
    "\n",
    "# tensor([[3., 3., 3., 3.],\n",
    "#         [3., 3., 3., 3.],\n",
    "#         [3., 3., 3., 3.],\n",
    "#         [3., 3., 3., 3.]])"
   ]
  },
  {
   "cell_type": "code",
   "execution_count": 25,
   "id": "aba96d0d",
   "metadata": {},
   "outputs": [
    {
     "data": {
      "text/plain": [
       "tensor([[1., 0., 1., 1.],\n",
       "        [1., 0., 1., 1.],\n",
       "        [1., 0., 1., 1.],\n",
       "        [1., 0., 1., 1.]])"
      ]
     },
     "execution_count": 25,
     "metadata": {},
     "output_type": "execute_result"
    }
   ],
   "source": [
    "# 요소별 곱(element-wise produt)을 계산한다. z1, z2, z2는 모두 같은 값을 가진다.\n",
    "z1 = tensor * tensor\n",
    "z2 = tensor.mul(tensor)\n",
    "\n",
    "z3 = torch.rand_like(tensor)\n",
    "torch.mul(tensor, tensor, out=z3)\n",
    "\n",
    "# tensor([[1., 0., 1., 1.],\n",
    "#         [1., 0., 1., 1.],\n",
    "#         [1., 0., 1., 1.],\n",
    "#         [1., 0., 1., 1.]])"
   ]
  },
  {
   "cell_type": "markdown",
   "id": "c4a4dc4f",
   "metadata": {},
   "source": [
    "- **단일-요소(single-element) 텐서** => 텐서의 모든 값을 하나로 집계(aggregate)하여 요소가 하나인 텐서의 경우, `item()`을 사용하여 Python 숫자 값으로 변환할 수 있다."
   ]
  },
  {
   "cell_type": "code",
   "execution_count": 26,
   "id": "deb327f3",
   "metadata": {},
   "outputs": [
    {
     "name": "stdout",
     "output_type": "stream",
     "text": [
      "12.0 <class 'float'>\n"
     ]
    }
   ],
   "source": [
    "agg = tensor.sum()\n",
    "agg_item = agg.item()\n",
    "print(agg_item, type(agg_item))\n",
    "\n",
    "# 12.0 <class 'float'>"
   ]
  },
  {
   "cell_type": "markdown",
   "id": "3a9c9769",
   "metadata": {},
   "source": [
    "- **바꿔치기(in-place)연산** => 연산 결고를 피연산자(operand)에 저장하는 연산을 바꿔치기 연산이라고 부르며, `_` 접미사를 갖는다. \n",
    "\n",
    "예를 들어 : `x.copy_(y)` 나 `x.t_()` 는 `x`를 변경한다."
   ]
  },
  {
   "cell_type": "code",
   "execution_count": 28,
   "id": "a1f171cb",
   "metadata": {},
   "outputs": [
    {
     "name": "stdout",
     "output_type": "stream",
     "text": [
      "tensor([[1., 0., 1., 1.],\n",
      "        [1., 0., 1., 1.],\n",
      "        [1., 0., 1., 1.],\n",
      "        [1., 0., 1., 1.]]) \n",
      "\n",
      "tensor([[6., 5., 6., 6.],\n",
      "        [6., 5., 6., 6.],\n",
      "        [6., 5., 6., 6.],\n",
      "        [6., 5., 6., 6.]])\n"
     ]
    }
   ],
   "source": [
    "print(tensor, '\\n')\n",
    "tensor.add_(5)\n",
    "print(tensor)\n",
    "\n",
    "# tensor([[1., 0., 1., 1.],\n",
    "#         [1., 0., 1., 1.],\n",
    "#         [1., 0., 1., 1.],\n",
    "#         [1., 0., 1., 1.]]) \n",
    "\n",
    "# tensor([[6., 5., 6., 6.],\n",
    "#         [6., 5., 6., 6.],\n",
    "#         [6., 5., 6., 6.],\n",
    "#         [6., 5., 6., 6.]])"
   ]
  },
  {
   "cell_type": "markdown",
   "id": "df82708e",
   "metadata": {},
   "source": [
    "# NumPy 변환(Bridge)\n",
    "- CPU 상의 텐서와 NumPy 배열은 메모리 공간을 공유하기 때문에, 하나를 변경하면 다른 하나도 변경된다.\n",
    "## 텐서를 NumPy 배열로 반환하기 "
   ]
  },
  {
   "cell_type": "code",
   "execution_count": 30,
   "id": "d5847f64",
   "metadata": {},
   "outputs": [
    {
     "name": "stdout",
     "output_type": "stream",
     "text": [
      "t: tensor([1., 1., 1., 1., 1.])\n",
      "n: [1. 1. 1. 1. 1.]\n"
     ]
    }
   ],
   "source": [
    "t = torch.ones(5)\n",
    "print(\"t: {}\".format(t))\n",
    "\n",
    "n = t.numpy()\n",
    "print(\"n: {}\".format(n))\n",
    "\n",
    "# t: tensor([1., 1., 1., 1., 1.])\n",
    "# n: [1. 1. 1. 1. 1.]"
   ]
  },
  {
   "cell_type": "markdown",
   "id": "22529c40",
   "metadata": {},
   "source": [
    "- 텐서의 변경 사항이 NumPy 배열에 반영된다."
   ]
  },
  {
   "cell_type": "code",
   "execution_count": 31,
   "id": "4ec31bbd",
   "metadata": {},
   "outputs": [
    {
     "name": "stdout",
     "output_type": "stream",
     "text": [
      "t: tensor([2., 2., 2., 2., 2.])\n",
      "n: [2. 2. 2. 2. 2.]\n"
     ]
    }
   ],
   "source": [
    "t.add_(1)\n",
    "print(\"t: {}\".format(t))\n",
    "print(\"n: {}\".format(n))\n",
    "\n",
    "# t: tensor([2., 2., 2., 2., 2.])\n",
    "# n: [2. 2. 2. 2. 2.]"
   ]
  },
  {
   "cell_type": "markdown",
   "id": "7156b2b7",
   "metadata": {},
   "source": [
    "## NumPy 배열을 텐서로 변환하기"
   ]
  },
  {
   "cell_type": "code",
   "execution_count": 32,
   "id": "9c204bda",
   "metadata": {},
   "outputs": [],
   "source": [
    "n = np.ones(5)\n",
    "t = torch.from_numpy(n)"
   ]
  },
  {
   "cell_type": "markdown",
   "id": "333a7994",
   "metadata": {},
   "source": [
    "- NumPy 배열의 변경 사항이 텐서에 반영된다."
   ]
  },
  {
   "cell_type": "code",
   "execution_count": 33,
   "id": "7130f5ff",
   "metadata": {},
   "outputs": [
    {
     "name": "stdout",
     "output_type": "stream",
     "text": [
      "t: tensor([2., 2., 2., 2., 2.], dtype=torch.float64)\n",
      "n: [2. 2. 2. 2. 2.]\n"
     ]
    }
   ],
   "source": [
    "np.add(n, 1, out = n)\n",
    "\n",
    "print(\"t: {}\".format(t))\n",
    "print(\"n: {}\".format(n))\n",
    "\n",
    "# t: tensor([2., 2., 2., 2., 2.], dtype=torch.float64)\n",
    "# n: [2. 2. 2. 2. 2.]"
   ]
  }
 ],
 "metadata": {
  "hide_input": false,
  "kernelspec": {
   "display_name": "Python 3 (ipykernel)",
   "language": "python",
   "name": "python3"
  },
  "language_info": {
   "codemirror_mode": {
    "name": "ipython",
    "version": 3
   },
   "file_extension": ".py",
   "mimetype": "text/x-python",
   "name": "python",
   "nbconvert_exporter": "python",
   "pygments_lexer": "ipython3",
   "version": "3.8.12"
  },
  "toc": {
   "base_numbering": 1,
   "nav_menu": {},
   "number_sections": true,
   "sideBar": true,
   "skip_h1_title": false,
   "title_cell": "Table of Contents",
   "title_sidebar": "Contents",
   "toc_cell": false,
   "toc_position": {},
   "toc_section_display": true,
   "toc_window_display": true
  },
  "varInspector": {
   "cols": {
    "lenName": 16,
    "lenType": 16,
    "lenVar": 40
   },
   "kernels_config": {
    "python": {
     "delete_cmd_postfix": "",
     "delete_cmd_prefix": "del ",
     "library": "var_list.py",
     "varRefreshCmd": "print(var_dic_list())"
    },
    "r": {
     "delete_cmd_postfix": ") ",
     "delete_cmd_prefix": "rm(",
     "library": "var_list.r",
     "varRefreshCmd": "cat(var_dic_list()) "
    }
   },
   "oldHeight": 295.85,
   "position": {
    "height": "340.85px",
    "left": "964.2px",
    "right": "20px",
    "top": "-1px",
    "width": "559px"
   },
   "types_to_exclude": [
    "module",
    "function",
    "builtin_function_or_method",
    "instance",
    "_Feature"
   ],
   "varInspector_section_display": "block",
   "window_display": false
  }
 },
 "nbformat": 4,
 "nbformat_minor": 5
}
